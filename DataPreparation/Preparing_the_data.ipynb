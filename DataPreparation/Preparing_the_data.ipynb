{
  "nbformat": 4,
  "nbformat_minor": 0,
  "metadata": {
    "colab": {
      "name": "Preparing the data.ipynb",
      "provenance": [],
      "authorship_tag": "ABX9TyNFNPZ7XgW1n8lp02hYlJkA",
      "include_colab_link": true
    },
    "kernelspec": {
      "name": "python3",
      "display_name": "Python 3"
    },
    "language_info": {
      "name": "python"
    }
  },
  "cells": [
    {
      "cell_type": "markdown",
      "metadata": {
        "id": "view-in-github",
        "colab_type": "text"
      },
      "source": [
        "<a href=\"https://colab.research.google.com/github/AnudeepReddy-Katta/nlp-journey/blob/main/DataPreparation/Preparing_the_data.ipynb\" target=\"_parent\"><img src=\"https://colab.research.google.com/assets/colab-badge.svg\" alt=\"Open In Colab\"/></a>"
      ]
    },
    {
      "cell_type": "code",
      "metadata": {
        "id": "63ShpYTecieq"
      },
      "source": [
        "import torch\n",
        "from torchtext.legacy import data \n",
        "# The torchtext package consists of data processing utilities and popular datasets for natural language."
      ],
      "execution_count": 1,
      "outputs": []
    },
    {
      "cell_type": "code",
      "metadata": {
        "id": "7F9XOSnzdR4E"
      },
      "source": [
        "SEED = 1234\n",
        "torch.manual_seed(SEED)\n",
        "torch.backends.cudnn.deterministic  = True \n",
        "# To have reproducability internally\n",
        "\n",
        "TEXT = data.Field(tokenize = 'spacy',\n",
        "                  tokenizer_language = 'en_core_web_sm') # Ability to define a preprocessing pipeline\n",
        "\n",
        "LABEL = data.LabelField(dtype=torch.float)"
      ],
      "execution_count": 2,
      "outputs": []
    },
    {
      "cell_type": "code",
      "metadata": {
        "id": "vb-WOXFked8l"
      },
      "source": [
        "from torchtext.legacy import datasets\n",
        "# The raw text iterators for common NLP datasets"
      ],
      "execution_count": 3,
      "outputs": []
    },
    {
      "cell_type": "code",
      "metadata": {
        "colab": {
          "base_uri": "https://localhost:8080/"
        },
        "id": "Pzn-OzxwfMiH",
        "outputId": "8ecc5189-26ec-40fe-95bc-50458b1c0772"
      },
      "source": [
        "train_data, test_data = datasets.IMDB.splits(TEXT,LABEL)"
      ],
      "execution_count": 4,
      "outputs": [
        {
          "output_type": "stream",
          "text": [
            "\raclImdb_v1.tar.gz:   0%|          | 0.00/84.1M [00:00<?, ?B/s]"
          ],
          "name": "stderr"
        },
        {
          "output_type": "stream",
          "text": [
            "downloading aclImdb_v1.tar.gz\n"
          ],
          "name": "stdout"
        },
        {
          "output_type": "stream",
          "text": [
            "aclImdb_v1.tar.gz: 100%|██████████| 84.1M/84.1M [00:02<00:00, 28.9MB/s]\n"
          ],
          "name": "stderr"
        }
      ]
    },
    {
      "cell_type": "code",
      "metadata": {
        "colab": {
          "base_uri": "https://localhost:8080/"
        },
        "id": "iPOJm_DfgxB1",
        "outputId": "2594b742-1bd7-41e2-c18d-1d4b3885ae00"
      },
      "source": [
        "print(len(train_data))\n",
        "print(len(test_data))"
      ],
      "execution_count": 5,
      "outputs": [
        {
          "output_type": "stream",
          "text": [
            "25000\n",
            "25000\n"
          ],
          "name": "stdout"
        }
      ]
    },
    {
      "cell_type": "code",
      "metadata": {
        "colab": {
          "base_uri": "https://localhost:8080/"
        },
        "id": "MoPblaD0htoa",
        "outputId": "1c064fbd-d80a-4d67-d6db-eae6663f3396"
      },
      "source": [
        "print(vars(train_data.examples[0]))"
      ],
      "execution_count": 6,
      "outputs": [
        {
          "output_type": "stream",
          "text": [
            "{'text': ['This', 'film', 'is', 'about', 'a', 'man', 'who', 'has', 'been', 'too', 'caught', 'up', 'with', 'the', 'accepted', 'convention', 'of', 'success', ',', 'trying', 'to', 'be', 'ever', 'upwardly', 'mobile', ',', 'working', 'hard', 'so', 'that', 'he', 'could', 'be', 'proud', 'of', 'owning', 'his', 'own', 'home', '.', 'He', 'assumes', 'this', 'is', 'all', 'there', 'is', 'to', 'life', 'until', 'he', 'accidentally', 'takes', 'up', 'dancing', ',', 'all', 'because', 'he', 'wanted', 'to', 'get', 'a', 'closer', 'look', 'of', 'a', 'beautiful', 'girl', 'that', 'he', 'sees', 'by', 'the', 'dance', 'studio', 'everyday', 'while', 'riding', 'the', 'subway', 'on', 'his', 'way', 'home.<br', '/><br', '/>His', 'was', 'infatuated', 'with', 'her', 'at', 'first', ',', 'going', 'to', 'the', 'dance', 'class', 'just', 'to', 'idolize', 'her', ',', 'but', 'he', 'eventually', 'lets', 'himself', 'go', 'and', 'gets', 'himself', 'into', 'the', 'dancing', '.', 'It', 'eventually', 'becomes', 'apparent', 'to', 'him', 'that', 'there', 'is', 'more', 'to', 'life', 'than', 'working', 'yourself', 'to', 'death', '.', 'There', 'is', 'a', 'set', 'of', 'oddball', 'characters', 'also', 'learning', 'in', 'the', 'studio', ',', 'giving', 'the', 'film', 'a', 'lot', 'of', 'laughs', 'and', 'some', 'sense', 'of', 'bonding', 'between', 'the', 'dejected.<br', '/><br', '/>There', 'is', 'also', 'revelations', 'of', 'various', 'characters', ',', 'including', 'the', 'girl', 'he', 'initially', 'admired', ',', 'giving', 'some', 'depth', 'to', 'them', 'by', 'showing', 'their', 'blemished', 'past', 'and', 'their', 'struggle', 'to', 'overcome', 'it.<br', '/><br', '/>The', 'dancing', 'was', 'also', 'engaging', ',', 'with', 'the', 'big', 'competition', 'at', 'the', 'end', ',', 'but', 'it', 'is', 'not', 'the', 'usual', 'story', 'where', 'our', 'underdog', 'come', 'out', 'at', 'the', 'top', 'by', 'winning', 'it', '.', 'Instead', ',', 'there', 'are', 'downfalls', ',', 'revelations', 'and', 'redemption.<br', '/><br', '/>All', 'these', 'makes', 'it', 'a', 'moving', 'and', 'fun', 'film', 'to', 'watch', '.'], 'label': 'pos'}\n"
          ],
          "name": "stdout"
        }
      ]
    },
    {
      "cell_type": "code",
      "metadata": {
        "id": "QhKiPLiEiQ8d"
      },
      "source": [
        "# Train-valid data split\n",
        "\n",
        "import random \n",
        "\n",
        "train_data, valid_data = train_data.split(random_state = random.seed(SEED))"
      ],
      "execution_count": 7,
      "outputs": []
    },
    {
      "cell_type": "code",
      "metadata": {
        "colab": {
          "base_uri": "https://localhost:8080/"
        },
        "id": "MtIu-TWSil_8",
        "outputId": "4e41be6f-28dc-4753-92b7-25bf744b461c"
      },
      "source": [
        "print(len(train_data))\n",
        "print(len(valid_data))\n",
        "print(len(test_data))"
      ],
      "execution_count": 8,
      "outputs": [
        {
          "output_type": "stream",
          "text": [
            "17500\n",
            "7500\n",
            "25000\n"
          ],
          "name": "stdout"
        }
      ]
    },
    {
      "cell_type": "code",
      "metadata": {
        "id": "j1wzR_Kriosw"
      },
      "source": [
        "# Building vocab\n",
        "\n",
        "MAX_VOCAB_SIZE = 25000\n",
        "\n",
        "TEXT.build_vocab(train_data, max_size = MAX_VOCAB_SIZE)\n",
        "LABEL.build_vocab(train_data)"
      ],
      "execution_count": 9,
      "outputs": []
    },
    {
      "cell_type": "code",
      "metadata": {
        "colab": {
          "base_uri": "https://localhost:8080/"
        },
        "id": "F_65SrypjgpI",
        "outputId": "714a622b-8f2f-4870-c31a-b8ed656ee2b4"
      },
      "source": [
        "print(len(TEXT.vocab))\n",
        "print(len(LABEL.vocab))"
      ],
      "execution_count": 10,
      "outputs": [
        {
          "output_type": "execute_result",
          "data": {
            "text/plain": [
              "2"
            ]
          },
          "metadata": {
            "tags": []
          },
          "execution_count": 10
        }
      ]
    },
    {
      "cell_type": "code",
      "metadata": {
        "colab": {
          "base_uri": "https://localhost:8080/"
        },
        "id": "KUrbJeKpjxuu",
        "outputId": "41de20df-19bd-4d2f-9fb1-7b2e19f41ea0"
      },
      "source": [
        "print(TEXT.vocab.freqs.most_common(20))"
      ],
      "execution_count": 11,
      "outputs": [
        {
          "output_type": "stream",
          "text": [
            "[('the', 202412), (',', 192759), ('.', 165751), ('and', 109636), ('a', 109396), ('of', 100712), ('to', 93894), ('is', 76323), ('in', 60993), ('I', 54132), ('it', 53828), ('that', 48896), ('\"', 44196), (\"'s\", 43234), ('this', 42358), ('-', 36941), ('/><br', 35289), ('was', 34903), ('as', 30155), ('with', 29886)]\n"
          ],
          "name": "stdout"
        }
      ]
    },
    {
      "cell_type": "code",
      "metadata": {
        "colab": {
          "base_uri": "https://localhost:8080/"
        },
        "id": "2SD3BOIKkCsN",
        "outputId": "007382d2-c25c-4188-8f29-e149121dccac"
      },
      "source": [
        "print(TEXT.vocab.itos[:10])"
      ],
      "execution_count": 13,
      "outputs": [
        {
          "output_type": "stream",
          "text": [
            "['<unk>', '<pad>', 'the', ',', '.', 'and', 'a', 'of', 'to', 'is']\n"
          ],
          "name": "stdout"
        }
      ]
    },
    {
      "cell_type": "code",
      "metadata": {
        "colab": {
          "base_uri": "https://localhost:8080/"
        },
        "id": "fYd8xrRdkIvn",
        "outputId": "59fd462d-75a9-4e5d-c86d-29b160e4291d"
      },
      "source": [
        "print(LABEL.vocab.stoi)"
      ],
      "execution_count": 15,
      "outputs": [
        {
          "output_type": "stream",
          "text": [
            "defaultdict(None, {'neg': 0, 'pos': 1})\n"
          ],
          "name": "stdout"
        }
      ]
    },
    {
      "cell_type": "code",
      "metadata": {
        "id": "fF7tkDClkMTI"
      },
      "source": [
        "BATCH_SIZE = 64\n",
        "\n",
        "device = torch.device('cuda' if torch.cuda.is_available() else 'cpu')\n",
        "\n",
        "train_iterator, valid_iterator, test_iterator = data.BucketIterator.splits(\n",
        "    # iterator that batches examples of similar lengths together\n",
        "    (train_data,valid_data,test_data),\n",
        "    batch_size = BATCH_SIZE,\n",
        "    device = device\n",
        ")"
      ],
      "execution_count": 16,
      "outputs": []
    }
  ]
}