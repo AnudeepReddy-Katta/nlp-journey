{
  "nbformat": 4,
  "nbformat_minor": 0,
  "metadata": {
    "accelerator": "GPU",
    "colab": {
      "name": "LSTM.ipynb",
      "provenance": [],
      "collapsed_sections": [],
      "authorship_tag": "ABX9TyMpIv76i43DTBDt/8D8+G7h",
      "include_colab_link": true
    },
    "kernelspec": {
      "display_name": "Python 3",
      "name": "python3"
    },
    "language_info": {
      "name": "python"
    }
  },
  "cells": [
    {
      "cell_type": "markdown",
      "metadata": {
        "id": "view-in-github",
        "colab_type": "text"
      },
      "source": [
        "<a href=\"https://colab.research.google.com/github/AnudeepReddy-Katta/nlp-journey/blob/main/LSTM/LSTM.ipynb\" target=\"_parent\"><img src=\"https://colab.research.google.com/assets/colab-badge.svg\" alt=\"Open In Colab\"/></a>"
      ]
    },
    {
      "cell_type": "code",
      "metadata": {
        "id": "63ShpYTecieq"
      },
      "source": [
        "import torch\n",
        "from torchtext.legacy import data \n",
        "# The torchtext package consists of data processing utilities and popular datasets for natural language."
      ],
      "execution_count": 1,
      "outputs": []
    },
    {
      "cell_type": "code",
      "metadata": {
        "id": "7F9XOSnzdR4E"
      },
      "source": [
        "SEED = 1234\n",
        "torch.manual_seed(SEED)\n",
        "torch.backends.cudnn.deterministic  = True \n",
        "# To have reproducability internally\n",
        "\n",
        "TEXT = data.Field(tokenize = 'spacy',\n",
        "                  tokenizer_language = 'en_core_web_sm',\n",
        "                  include_lengths = True) # Ability to define a preprocessing pipeline\n",
        "\n",
        "LABEL = data.LabelField(dtype=torch.float)"
      ],
      "execution_count": 2,
      "outputs": []
    },
    {
      "cell_type": "code",
      "metadata": {
        "id": "vb-WOXFked8l"
      },
      "source": [
        "from torchtext.legacy import datasets\n",
        "# The raw text iterators for common NLP datasets"
      ],
      "execution_count": 3,
      "outputs": []
    },
    {
      "cell_type": "code",
      "metadata": {
        "id": "Pzn-OzxwfMiH"
      },
      "source": [
        "train_data, test_data = datasets.IMDB.splits(TEXT,LABEL)"
      ],
      "execution_count": 4,
      "outputs": []
    },
    {
      "cell_type": "code",
      "metadata": {
        "colab": {
          "base_uri": "https://localhost:8080/"
        },
        "id": "iPOJm_DfgxB1",
        "outputId": "8779e114-2697-476f-96e3-9fdaa264833a"
      },
      "source": [
        "print(len(train_data))\n",
        "print(len(test_data))"
      ],
      "execution_count": 5,
      "outputs": [
        {
          "output_type": "stream",
          "text": [
            "25000\n",
            "25000\n"
          ],
          "name": "stdout"
        }
      ]
    },
    {
      "cell_type": "code",
      "metadata": {
        "colab": {
          "base_uri": "https://localhost:8080/"
        },
        "id": "MoPblaD0htoa",
        "outputId": "677f82ee-a02f-4412-9cbf-dd4271135b73"
      },
      "source": [
        "print(vars(train_data.examples[0]))"
      ],
      "execution_count": 6,
      "outputs": [
        {
          "output_type": "stream",
          "text": [
            "{'text': ['Who', 'would', \"n't\", 'want', 'to', 'go', 'on', 'road', 'trip', 'with', 'Peter', 'Falk', '?', 'That', 'guy', \"'s\", 'right', 'eye', 'has', 'more', 'character', 'than', 'most', 'actors', 'today', '.', 'This', 'is', 'the', 'kind', 'of', 'funny', 'and', 'touching', 'movie', 'we', 'are', 'all', 'looking', 'for', 'as', 'a', 'counterbalance', 'to', 'all', 'the', 'bombastic', 'special', 'effects', 'bores', '.', 'Women', 'are', 'going', 'to', 'love', 'it', 'for', 'all', 'the', 'wake', '-', 'up', 'romance', 'advice', 'for', 'men', ',', 'and', 'men', 'will', 'love', 'it', 'for', 'its', 'spot', '-', 'on', 'father', '/', 'son', 'character', 'study', '--', 'one', 'great', 'little', 'scene', 'after', 'another', '.', 'And', 'it', 'has', 'just', 'enough', 'of', 'an', 'edge', 'to', 'be', 'a', 'true', 'indie', 'find', '.', 'Obviously', 'this', 'is', 'a', 'labor', 'of', 'love', 'for', 'Paul', 'Reiser', 'who', 'understands', 'what', 'it', \"'s\", 'like', 'to', 'be', 'both', 'a', 'father', 'and', 'a', 'son', ',', 'as', 'well', 'as', 'to', 'have', 'both', 'laughter', 'and', 'tears', 'as', 'you', 'move', 'through', 'life', '.', 'The', 'most', 'fun', 'part', ',', 'though', ',', 'was', 'watching', 'Reiser', 'watch', 'Falk', '.', 'You', 'could', 'tell', 'it', 'was', 'both', 'his', 'character', 'coming', 'to', 'a', 'new', 'appreciation', 'of', 'his', 'father', 'and', 'a', 'fellow', 'actor', 'really', 'enjoying', 'Peter', 'Falk', \"'s\", 'special', 'craft', '.', 'Really', 'delightful', '.', 'Let', \"'s\", 'hope', 'this', 'film', 'makes', 'it', 'into', 'theaters', 'around', 'the', 'country', 'sometime', 'soon', 'so', 'everyone', 'can', 'have', 'a', 'chance', 'to', 'laugh', 'and', 'cry', 'with', 'Paul', 'Reiser', 'and', 'folks', '.'], 'label': 'pos'}\n"
          ],
          "name": "stdout"
        }
      ]
    },
    {
      "cell_type": "code",
      "metadata": {
        "id": "QhKiPLiEiQ8d"
      },
      "source": [
        "# Train-valid data split\n",
        "\n",
        "import random \n",
        "\n",
        "train_data, valid_data = train_data.split(random_state = random.seed(SEED))"
      ],
      "execution_count": 7,
      "outputs": []
    },
    {
      "cell_type": "code",
      "metadata": {
        "colab": {
          "base_uri": "https://localhost:8080/"
        },
        "id": "MtIu-TWSil_8",
        "outputId": "1f3e7fb2-dcad-4163-a922-ac3b963248b2"
      },
      "source": [
        "print(len(train_data))\n",
        "print(len(valid_data))\n",
        "print(len(test_data))"
      ],
      "execution_count": 8,
      "outputs": [
        {
          "output_type": "stream",
          "text": [
            "17500\n",
            "7500\n",
            "25000\n"
          ],
          "name": "stdout"
        }
      ]
    },
    {
      "cell_type": "code",
      "metadata": {
        "id": "j1wzR_Kriosw"
      },
      "source": [
        "# Building vocab\n",
        "\n",
        "MAX_VOCAB_SIZE = 25000\n",
        "\n",
        "TEXT.build_vocab(train_data, max_size = MAX_VOCAB_SIZE)\n",
        "LABEL.build_vocab(train_data)"
      ],
      "execution_count": 9,
      "outputs": []
    },
    {
      "cell_type": "code",
      "metadata": {
        "colab": {
          "base_uri": "https://localhost:8080/"
        },
        "id": "F_65SrypjgpI",
        "outputId": "4c9079f8-2ec1-4679-cee3-d5b94db444c4"
      },
      "source": [
        "print(len(TEXT.vocab))\n",
        "print(len(LABEL.vocab))"
      ],
      "execution_count": 10,
      "outputs": [
        {
          "output_type": "stream",
          "text": [
            "25002\n",
            "2\n"
          ],
          "name": "stdout"
        }
      ]
    },
    {
      "cell_type": "code",
      "metadata": {
        "colab": {
          "base_uri": "https://localhost:8080/"
        },
        "id": "KUrbJeKpjxuu",
        "outputId": "7707eb1f-2a5c-49ee-a6d7-84172a48209b"
      },
      "source": [
        "print(TEXT.vocab.freqs.most_common(20))"
      ],
      "execution_count": 11,
      "outputs": [
        {
          "output_type": "stream",
          "text": [
            "[('the', 202995), (',', 192589), ('.', 166220), ('a', 109823), ('and', 109605), ('of', 100631), ('to', 94086), ('is', 76261), ('in', 61475), ('I', 54572), ('it', 53798), ('that', 49288), ('\"', 44123), (\"'s\", 43366), ('this', 42618), ('-', 36817), ('/><br', 35673), ('was', 35263), ('as', 30534), ('with', 29957)]\n"
          ],
          "name": "stdout"
        }
      ]
    },
    {
      "cell_type": "code",
      "metadata": {
        "colab": {
          "base_uri": "https://localhost:8080/"
        },
        "id": "2SD3BOIKkCsN",
        "outputId": "b667bf6f-c40b-48ee-a42d-8081f16f9c0a"
      },
      "source": [
        "print(TEXT.vocab.itos[:10])"
      ],
      "execution_count": 12,
      "outputs": [
        {
          "output_type": "stream",
          "text": [
            "['<unk>', '<pad>', 'the', ',', '.', 'a', 'and', 'of', 'to', 'is']\n"
          ],
          "name": "stdout"
        }
      ]
    },
    {
      "cell_type": "code",
      "metadata": {
        "colab": {
          "base_uri": "https://localhost:8080/"
        },
        "id": "fYd8xrRdkIvn",
        "outputId": "4becf78f-4a69-4904-88e9-57a47844978a"
      },
      "source": [
        "print(LABEL.vocab.stoi)"
      ],
      "execution_count": 13,
      "outputs": [
        {
          "output_type": "stream",
          "text": [
            "defaultdict(None, {'neg': 0, 'pos': 1})\n"
          ],
          "name": "stdout"
        }
      ]
    },
    {
      "cell_type": "code",
      "metadata": {
        "id": "fF7tkDClkMTI"
      },
      "source": [
        "BATCH_SIZE = 128\n",
        "\n",
        "device = torch.device('cuda' if torch.cuda.is_available() else 'cpu')\n",
        "\n",
        "train_iterator, valid_iterator, test_iterator = data.BucketIterator.splits(\n",
        "    # iterator that batches examples of similar lengths together\n",
        "    (train_data,valid_data,test_data),\n",
        "    batch_size = BATCH_SIZE,\n",
        "    sort_within_batch = True,\n",
        "    device = device\n",
        ")"
      ],
      "execution_count": 14,
      "outputs": []
    },
    {
      "cell_type": "code",
      "metadata": {
        "id": "G7oqJ7GfNVQ8"
      },
      "source": [
        "import torch.nn as nn"
      ],
      "execution_count": 15,
      "outputs": []
    },
    {
      "cell_type": "code",
      "metadata": {
        "id": "bLSzKC_uNM73"
      },
      "source": [
        "# RNN class\n",
        "\n",
        "class LSTM(nn.Module):\n",
        "\n",
        "  def __init__(self,num_embeddings,embedding_dim,hidden_dim,output_dim):\n",
        "    \n",
        "    super().__init__()\n",
        "\n",
        "    self.embedding = nn.Embedding(num_embeddings,embedding_dim) \n",
        "    self.lstm = nn.LSTM(embedding_dim,hidden_dim)\n",
        "    self.fc = nn.Linear(hidden_dim,output_dim)\n",
        "\n",
        "  def forward(self,text,text_length):\n",
        "\n",
        "    #[sentence len, batch size] => [sentence len, batch size, embedding size]\n",
        "    embedded = self.embedding(text)\n",
        "\n",
        "    packed = torch.nn.utils.rnn.pack_padded_sequence(embedded,text_length.to('cpu'))\n",
        "\n",
        "    #[sentence len, batch size, embedding size] => \n",
        "    #  output: [sentence len, batch size, hidden size]\n",
        "    #  hidden: [1, batch size, hidden size]\n",
        "    packed_output, (hidden,cell) = self.lstm(packed)\n",
        "    return self.fc(hidden.squeeze(0)).view(-1)"
      ],
      "execution_count": 16,
      "outputs": []
    },
    {
      "cell_type": "code",
      "metadata": {
        "id": "gcihQwpXgJgB"
      },
      "source": [
        "INPUT_DIM = len(TEXT.vocab)\n",
        "EMBEDDING_DIM = 128\n",
        "HIDDEN_DIM = 256\n",
        "OUTPUT_DIM = 1\n",
        "\n",
        "model = LSTM(INPUT_DIM, EMBEDDING_DIM, HIDDEN_DIM, OUTPUT_DIM)"
      ],
      "execution_count": 17,
      "outputs": []
    },
    {
      "cell_type": "code",
      "metadata": {
        "id": "lB39a723hJsi",
        "colab": {
          "base_uri": "https://localhost:8080/"
        },
        "outputId": "831e80b5-fcf1-4d64-e0eb-9e82bc9a5d93"
      },
      "source": [
        "model"
      ],
      "execution_count": 18,
      "outputs": [
        {
          "output_type": "execute_result",
          "data": {
            "text/plain": [
              "LSTM(\n",
              "  (embedding): Embedding(25002, 128)\n",
              "  (lstm): LSTM(128, 256)\n",
              "  (fc): Linear(in_features=256, out_features=1, bias=True)\n",
              ")"
            ]
          },
          "metadata": {
            "tags": []
          },
          "execution_count": 18
        }
      ]
    },
    {
      "cell_type": "code",
      "metadata": {
        "id": "M8xuqlMMjjwk"
      },
      "source": [
        "def count_parameters(model):\n",
        "\n",
        "  return sum(p.numel() for p in model.parameters() if p.requires_grad)"
      ],
      "execution_count": 19,
      "outputs": []
    },
    {
      "cell_type": "code",
      "metadata": {
        "colab": {
          "base_uri": "https://localhost:8080/"
        },
        "id": "2EzXDUELk11K",
        "outputId": "ae14b5a2-82f1-43b1-a62e-3bd1d1245bac"
      },
      "source": [
        "count_parameters(model)"
      ],
      "execution_count": 20,
      "outputs": [
        {
          "output_type": "execute_result",
          "data": {
            "text/plain": [
              "3595777"
            ]
          },
          "metadata": {
            "tags": []
          },
          "execution_count": 20
        }
      ]
    },
    {
      "cell_type": "code",
      "metadata": {
        "id": "JfLxvIZPk7ii"
      },
      "source": [
        "import torch.optim as optim"
      ],
      "execution_count": 21,
      "outputs": []
    },
    {
      "cell_type": "code",
      "metadata": {
        "id": "6KC3ZAqkk_kC"
      },
      "source": [
        "optimizer = optim.Adam(model.parameters(), lr=1e-4)"
      ],
      "execution_count": 22,
      "outputs": []
    },
    {
      "cell_type": "code",
      "metadata": {
        "id": "UNL1tJV3lUhu"
      },
      "source": [
        "criterion = nn.BCEWithLogitsLoss() # Sigmoid + BCE Loss"
      ],
      "execution_count": 23,
      "outputs": []
    },
    {
      "cell_type": "code",
      "metadata": {
        "id": "Jxj9hlEWlWzk"
      },
      "source": [
        "model = model.to(device)\n",
        "criterion = criterion.to(device)"
      ],
      "execution_count": 24,
      "outputs": []
    },
    {
      "cell_type": "code",
      "metadata": {
        "id": "MNdhhbBzlhEZ"
      },
      "source": [
        "def binary_accuracy(preds,y):\n",
        "  \n",
        "  rounded_preds = torch.round(torch.sigmoid(preds))\n",
        "  correct = (rounded_preds == y).float()\n",
        "  acc = correct.sum() / len(correct)\n",
        "\n",
        "  return acc"
      ],
      "execution_count": 25,
      "outputs": []
    },
    {
      "cell_type": "code",
      "metadata": {
        "id": "I6qp5T2vnHyV"
      },
      "source": [
        "def train(model, iterator, optimizer, criterion):\n",
        "\n",
        "  epoch_loss = 0\n",
        "  epoch_acc = 0\n",
        "\n",
        "  model.train()\n",
        "\n",
        "  for batch in iterator:\n",
        "\n",
        "    text, text_length = batch.text\n",
        "    optimizer.zero_grad()\n",
        "\n",
        "    logits = model(text, text_length)\n",
        "\n",
        "    loss = criterion(logits, batch.label)\n",
        "    acc = binary_accuracy(logits, batch.label)\n",
        "\n",
        "    loss.backward()\n",
        "    optimizer.step()\n",
        "\n",
        "    epoch_loss += loss.item()\n",
        "    epoch_acc += acc.item()\n",
        "\n",
        "  return epoch_loss / len(iterator), epoch_acc / len(iterator)"
      ],
      "execution_count": 26,
      "outputs": []
    },
    {
      "cell_type": "code",
      "metadata": {
        "id": "MMKsSJyhq3qX"
      },
      "source": [
        "def evaluate(model, iterator, criterion):\n",
        "\n",
        "  epoch_loss = 0\n",
        "  epoch_acc = 0\n",
        "\n",
        "  model.eval()\n",
        "\n",
        "  with torch.no_grad():\n",
        "\n",
        "    for batch in iterator:\n",
        "\n",
        "      text, text_length = batch.text\n",
        "      logits = model(text, text_length)\n",
        "\n",
        "      loss = criterion(logits, batch.label)\n",
        "      acc = binary_accuracy(logits, batch.label)\n",
        "\n",
        "      epoch_loss += loss.item()\n",
        "      epoch_acc += acc.item()\n",
        "\n",
        "    return epoch_loss / len(iterator), epoch_acc / len(iterator)"
      ],
      "execution_count": 27,
      "outputs": []
    },
    {
      "cell_type": "code",
      "metadata": {
        "id": "EdvRJb3KrLpT"
      },
      "source": [
        "import time\n",
        "\n",
        "def epoch_time(start_time, end_time):\n",
        "\n",
        "  elapsed_time = end_time - start_time\n",
        "  elapsed_mins = int(elapsed_time/60)\n",
        "  elapsed_secs = elapsed_time - elapsed_mins\n",
        "\n",
        "  return elapsed_mins, elapsed_secs"
      ],
      "execution_count": 28,
      "outputs": []
    },
    {
      "cell_type": "code",
      "metadata": {
        "id": "Tf5ow8FMtWU_",
        "colab": {
          "base_uri": "https://localhost:8080/"
        },
        "outputId": "eb6a476e-5a16-4721-82e1-bb45d64c24aa"
      },
      "source": [
        "N_EPOCHS = 30\n",
        "\n",
        "best_valid_loss = float('inf')\n",
        "\n",
        "for epoch in range(N_EPOCHS):\n",
        "\n",
        "  start_time = time.time()\n",
        "    \n",
        "  train_loss, train_acc = train(model, train_iterator, optimizer, criterion)\n",
        "  valid_loss, valid_acc = evaluate(model, valid_iterator, criterion)\n",
        "      \n",
        "  end_time = time.time()\n",
        "\n",
        "  epoch_mins, epoch_secs = epoch_time(start_time, end_time)\n",
        "\n",
        "  if valid_loss < best_valid_loss:\n",
        "\n",
        "    best_valid_loss = valid_loss\n",
        "    torch.save(model.state_dict(),'model.pt')\n",
        "\n",
        "  print(f'Epoch: {epoch+1:02} | Epoch Time: {epoch_mins}m {epoch_secs}s')\n",
        "  print(f'\\tTrain Loss: {train_loss:.3f} | Train Acc: {train_acc*100:.2f}%')\n",
        "  print(f'\\t Val. Loss: {valid_loss:.3f} |  Val. Acc: {valid_acc*100:.2f}%')"
      ],
      "execution_count": 29,
      "outputs": [
        {
          "output_type": "stream",
          "text": [
            "Epoch: 01 | Epoch Time: 0m 7.525287628173828s\n",
            "\tTrain Loss: 0.689 | Train Acc: 53.60%\n",
            "\t Val. Loss: 0.684 |  Val. Acc: 57.03%\n",
            "Epoch: 02 | Epoch Time: 0m 7.174832820892334s\n",
            "\tTrain Loss: 0.659 | Train Acc: 61.52%\n",
            "\t Val. Loss: 0.600 |  Val. Acc: 67.53%\n",
            "Epoch: 03 | Epoch Time: 0m 7.233463525772095s\n",
            "\tTrain Loss: 0.601 | Train Acc: 68.47%\n",
            "\t Val. Loss: 0.599 |  Val. Acc: 67.05%\n",
            "Epoch: 04 | Epoch Time: 0m 7.230190992355347s\n",
            "\tTrain Loss: 0.545 | Train Acc: 73.10%\n",
            "\t Val. Loss: 0.536 |  Val. Acc: 73.48%\n",
            "Epoch: 05 | Epoch Time: 0m 7.30656623840332s\n",
            "\tTrain Loss: 0.505 | Train Acc: 76.31%\n",
            "\t Val. Loss: 0.501 |  Val. Acc: 76.04%\n",
            "Epoch: 06 | Epoch Time: 0m 7.294423818588257s\n",
            "\tTrain Loss: 0.471 | Train Acc: 78.66%\n",
            "\t Val. Loss: 0.483 |  Val. Acc: 77.17%\n",
            "Epoch: 07 | Epoch Time: 0m 7.323093414306641s\n",
            "\tTrain Loss: 0.447 | Train Acc: 80.13%\n",
            "\t Val. Loss: 0.492 |  Val. Acc: 77.39%\n",
            "Epoch: 08 | Epoch Time: 0m 7.340047836303711s\n",
            "\tTrain Loss: 0.523 | Train Acc: 75.83%\n",
            "\t Val. Loss: 0.460 |  Val. Acc: 79.05%\n",
            "Epoch: 09 | Epoch Time: 0m 7.341115474700928s\n",
            "\tTrain Loss: 0.404 | Train Acc: 82.74%\n",
            "\t Val. Loss: 0.444 |  Val. Acc: 80.21%\n",
            "Epoch: 10 | Epoch Time: 0m 7.355322599411011s\n",
            "\tTrain Loss: 0.392 | Train Acc: 83.29%\n",
            "\t Val. Loss: 0.448 |  Val. Acc: 79.50%\n",
            "Epoch: 11 | Epoch Time: 0m 7.4262940883636475s\n",
            "\tTrain Loss: 0.356 | Train Acc: 85.29%\n",
            "\t Val. Loss: 0.443 |  Val. Acc: 79.16%\n",
            "Epoch: 12 | Epoch Time: 0m 7.403041839599609s\n",
            "\tTrain Loss: 0.366 | Train Acc: 84.75%\n",
            "\t Val. Loss: 0.405 |  Val. Acc: 81.76%\n",
            "Epoch: 13 | Epoch Time: 0m 7.4147138595581055s\n",
            "\tTrain Loss: 0.333 | Train Acc: 86.54%\n",
            "\t Val. Loss: 0.403 |  Val. Acc: 82.28%\n",
            "Epoch: 14 | Epoch Time: 0m 7.460346937179565s\n",
            "\tTrain Loss: 0.310 | Train Acc: 87.50%\n",
            "\t Val. Loss: 0.402 |  Val. Acc: 82.96%\n",
            "Epoch: 15 | Epoch Time: 0m 7.494251489639282s\n",
            "\tTrain Loss: 0.310 | Train Acc: 87.66%\n",
            "\t Val. Loss: 0.393 |  Val. Acc: 83.38%\n",
            "Epoch: 16 | Epoch Time: 0m 7.493023633956909s\n",
            "\tTrain Loss: 0.284 | Train Acc: 88.70%\n",
            "\t Val. Loss: 0.382 |  Val. Acc: 82.92%\n",
            "Epoch: 17 | Epoch Time: 0m 7.501065492630005s\n",
            "\tTrain Loss: 0.279 | Train Acc: 88.99%\n",
            "\t Val. Loss: 0.400 |  Val. Acc: 83.16%\n",
            "Epoch: 18 | Epoch Time: 0m 7.534213066101074s\n",
            "\tTrain Loss: 0.259 | Train Acc: 90.11%\n",
            "\t Val. Loss: 0.379 |  Val. Acc: 83.94%\n",
            "Epoch: 19 | Epoch Time: 0m 7.541522264480591s\n",
            "\tTrain Loss: 0.245 | Train Acc: 90.68%\n",
            "\t Val. Loss: 0.360 |  Val. Acc: 84.43%\n",
            "Epoch: 20 | Epoch Time: 0m 7.524998903274536s\n",
            "\tTrain Loss: 0.229 | Train Acc: 91.28%\n",
            "\t Val. Loss: 0.436 |  Val. Acc: 84.52%\n",
            "Epoch: 21 | Epoch Time: 0m 7.5131871700286865s\n",
            "\tTrain Loss: 0.401 | Train Acc: 82.90%\n",
            "\t Val. Loss: 0.376 |  Val. Acc: 83.68%\n",
            "Epoch: 22 | Epoch Time: 0m 7.536396503448486s\n",
            "\tTrain Loss: 0.228 | Train Acc: 91.32%\n",
            "\t Val. Loss: 0.379 |  Val. Acc: 85.05%\n",
            "Epoch: 23 | Epoch Time: 0m 7.557841062545776s\n",
            "\tTrain Loss: 0.206 | Train Acc: 92.25%\n",
            "\t Val. Loss: 0.395 |  Val. Acc: 85.00%\n",
            "Epoch: 24 | Epoch Time: 0m 7.603804588317871s\n",
            "\tTrain Loss: 0.196 | Train Acc: 92.64%\n",
            "\t Val. Loss: 0.356 |  Val. Acc: 85.29%\n",
            "Epoch: 25 | Epoch Time: 0m 7.649834394454956s\n",
            "\tTrain Loss: 0.203 | Train Acc: 92.53%\n",
            "\t Val. Loss: 0.395 |  Val. Acc: 84.51%\n",
            "Epoch: 26 | Epoch Time: 0m 7.55598521232605s\n",
            "\tTrain Loss: 0.170 | Train Acc: 93.97%\n",
            "\t Val. Loss: 0.365 |  Val. Acc: 85.50%\n",
            "Epoch: 27 | Epoch Time: 0m 7.553914785385132s\n",
            "\tTrain Loss: 0.206 | Train Acc: 92.33%\n",
            "\t Val. Loss: 0.400 |  Val. Acc: 82.89%\n",
            "Epoch: 28 | Epoch Time: 0m 7.5412352085113525s\n",
            "\tTrain Loss: 0.164 | Train Acc: 94.17%\n",
            "\t Val. Loss: 0.357 |  Val. Acc: 85.74%\n",
            "Epoch: 29 | Epoch Time: 0m 7.512326002120972s\n",
            "\tTrain Loss: 0.146 | Train Acc: 94.89%\n",
            "\t Val. Loss: 0.382 |  Val. Acc: 85.75%\n",
            "Epoch: 30 | Epoch Time: 0m 7.533057451248169s\n",
            "\tTrain Loss: 0.132 | Train Acc: 95.82%\n",
            "\t Val. Loss: 0.402 |  Val. Acc: 85.24%\n"
          ],
          "name": "stdout"
        }
      ]
    },
    {
      "cell_type": "code",
      "metadata": {
        "id": "DGNQ3CfYzsHU",
        "colab": {
          "base_uri": "https://localhost:8080/"
        },
        "outputId": "39104cff-e02b-4020-891e-5108f1d422da"
      },
      "source": [
        "model.load_state_dict(torch.load('model.pt'))\n",
        "\n",
        "test_loss, test_acc = evaluate(model, test_iterator, criterion)\n",
        "\n",
        "print(f'Test Loss: {test_loss:.3f} | Test Acc: {test_acc*100:.2f}%')"
      ],
      "execution_count": 30,
      "outputs": [
        {
          "output_type": "stream",
          "text": [
            "Test Loss: 0.355 | Test Acc: 85.25%\n"
          ],
          "name": "stdout"
        }
      ]
    }
  ]
}