{
  "nbformat": 4,
  "nbformat_minor": 0,
  "metadata": {
    "colab": {
      "name": "RNN.ipynb",
      "provenance": [],
      "collapsed_sections": [],
      "authorship_tag": "ABX9TyMEGN/k2EitsD0U7nofY6Rv",
      "include_colab_link": true
    },
    "kernelspec": {
      "name": "python3",
      "display_name": "Python 3"
    },
    "language_info": {
      "name": "python"
    }
  },
  "cells": [
    {
      "cell_type": "markdown",
      "metadata": {
        "id": "view-in-github",
        "colab_type": "text"
      },
      "source": [
        "<a href=\"https://colab.research.google.com/github/AnudeepReddy-Katta/nlp-journey/blob/main/RNN.ipynb\" target=\"_parent\"><img src=\"https://colab.research.google.com/assets/colab-badge.svg\" alt=\"Open In Colab\"/></a>"
      ]
    },
    {
      "cell_type": "code",
      "metadata": {
        "id": "63ShpYTecieq"
      },
      "source": [
        "import torch\n",
        "from torchtext.legacy import data \n",
        "# The torchtext package consists of data processing utilities and popular datasets for natural language."
      ],
      "execution_count": 34,
      "outputs": []
    },
    {
      "cell_type": "code",
      "metadata": {
        "id": "7F9XOSnzdR4E"
      },
      "source": [
        "SEED = 1234\n",
        "torch.manual_seed(SEED)\n",
        "torch.backends.cudnn.deterministic  = True \n",
        "# To have reproducability internally\n",
        "\n",
        "TEXT = data.Field(tokenize = 'spacy',\n",
        "                  tokenizer_language = 'en_core_web_sm') # Ability to define a preprocessing pipeline\n",
        "\n",
        "LABEL = data.LabelField(dtype=torch.float)"
      ],
      "execution_count": 35,
      "outputs": []
    },
    {
      "cell_type": "code",
      "metadata": {
        "id": "vb-WOXFked8l"
      },
      "source": [
        "from torchtext.legacy import datasets\n",
        "# The raw text iterators for common NLP datasets"
      ],
      "execution_count": 36,
      "outputs": []
    },
    {
      "cell_type": "code",
      "metadata": {
        "id": "Pzn-OzxwfMiH"
      },
      "source": [
        "train_data, test_data = datasets.IMDB.splits(TEXT,LABEL)"
      ],
      "execution_count": 37,
      "outputs": []
    },
    {
      "cell_type": "code",
      "metadata": {
        "colab": {
          "base_uri": "https://localhost:8080/"
        },
        "id": "iPOJm_DfgxB1",
        "outputId": "1a527982-80ce-4f2b-c235-13b83c34dced"
      },
      "source": [
        "print(len(train_data))\n",
        "print(len(test_data))"
      ],
      "execution_count": 38,
      "outputs": [
        {
          "output_type": "stream",
          "text": [
            "25000\n",
            "25000\n"
          ],
          "name": "stdout"
        }
      ]
    },
    {
      "cell_type": "code",
      "metadata": {
        "colab": {
          "base_uri": "https://localhost:8080/"
        },
        "id": "MoPblaD0htoa",
        "outputId": "9c11dbf4-263e-49c8-e4d4-685de1d45a38"
      },
      "source": [
        "print(vars(train_data.examples[0]))"
      ],
      "execution_count": 39,
      "outputs": [
        {
          "output_type": "stream",
          "text": [
            "{'text': ['I', 'recently', 'got', 'the', 'chance', 'to', 'view', '\"', 'The', 'Waterdance', '\"', ',', 'and', 'quite', 'liked', 'it', '.', 'I', 'do', \"n't\", 'really', 'understand', 'why', 'its', 'called', 'that', 'as', 'there', 'is', \"n't\", 'really', 'any', 'dancing', 'going', 'on', 'there', ',', 'except', 'maybe', 'for', 'the', 'dancing', 'at', 'the', 'strip', 'club', 'near', 'the', 'end', '.', 'We', 'are', 'introduced', 'to', 'the', 'main', 'characters', 'throughout', 'the', 'movie', ',', 'invalids', 'in', 'a', 'hospital', '.', 'The', 'story', 'shows', 'a', 'love', 'affair', 'between', 'a', 'physically', 'sisabled', 'guy', 'and', 'a', 'healthy', 'woman', ',', 'which', 'is', 'a', 'very', 'sweet', 'story', '.', 'Unfortunately', ',', 'you', 'do', \"n't\", 'get', 'to', 'see', 'movies', 'like', 'that', 'today', '.', 'I', 'm', 'not', '\"', 'stuck', 'in', 'a', 'time', 'warp', '\"', ',', 'i', 'm', 'not', 'saying', 'that', 'everything', 'during', 'the', '80s', 'and', 'early', '90s', 'was', 'better', 'than', 'today', ',', 'but', 'I', 'really', 'think', 'the', 'movie', 'industry', 'is', 'deteriorating', 'and', 'there', \"'s\", 'much', 'we', 'can', 'learn', 'from', 'old', 'movies', '-', 'by', 'old', 'movies', 'i', 'mean', 'anything', 'from', '1920', '-', '1998', '.'], 'label': 'pos'}\n"
          ],
          "name": "stdout"
        }
      ]
    },
    {
      "cell_type": "code",
      "metadata": {
        "id": "QhKiPLiEiQ8d"
      },
      "source": [
        "# Train-valid data split\n",
        "\n",
        "import random \n",
        "\n",
        "train_data, valid_data = train_data.split(random_state = random.seed(SEED))"
      ],
      "execution_count": 40,
      "outputs": []
    },
    {
      "cell_type": "code",
      "metadata": {
        "colab": {
          "base_uri": "https://localhost:8080/"
        },
        "id": "MtIu-TWSil_8",
        "outputId": "331fe6e7-6021-47ad-c984-7b1fcb315d03"
      },
      "source": [
        "print(len(train_data))\n",
        "print(len(valid_data))\n",
        "print(len(test_data))"
      ],
      "execution_count": 41,
      "outputs": [
        {
          "output_type": "stream",
          "text": [
            "17500\n",
            "7500\n",
            "25000\n"
          ],
          "name": "stdout"
        }
      ]
    },
    {
      "cell_type": "code",
      "metadata": {
        "id": "j1wzR_Kriosw"
      },
      "source": [
        "# Building vocab\n",
        "\n",
        "MAX_VOCAB_SIZE = 25000\n",
        "\n",
        "TEXT.build_vocab(train_data, max_size = MAX_VOCAB_SIZE)\n",
        "LABEL.build_vocab(train_data)"
      ],
      "execution_count": 42,
      "outputs": []
    },
    {
      "cell_type": "code",
      "metadata": {
        "colab": {
          "base_uri": "https://localhost:8080/"
        },
        "id": "F_65SrypjgpI",
        "outputId": "b8bcab5e-8756-4f8b-a3c9-c6787ccf0439"
      },
      "source": [
        "print(len(TEXT.vocab))\n",
        "print(len(LABEL.vocab))"
      ],
      "execution_count": 43,
      "outputs": [
        {
          "output_type": "stream",
          "text": [
            "25002\n",
            "2\n"
          ],
          "name": "stdout"
        }
      ]
    },
    {
      "cell_type": "code",
      "metadata": {
        "colab": {
          "base_uri": "https://localhost:8080/"
        },
        "id": "KUrbJeKpjxuu",
        "outputId": "53b41607-c5cd-4611-83c5-330f7474720a"
      },
      "source": [
        "print(TEXT.vocab.freqs.most_common(20))"
      ],
      "execution_count": 44,
      "outputs": [
        {
          "output_type": "stream",
          "text": [
            "[('the', 201981), (',', 192480), ('.', 165389), ('and', 109631), ('a', 109152), ('of', 100721), ('to', 93284), ('is', 76498), ('in', 61360), ('I', 54052), ('it', 53299), ('that', 49014), ('\"', 43989), (\"'s\", 43285), ('this', 42329), ('-', 37051), ('/><br', 35577), ('was', 35050), ('as', 30305), ('movie', 29983)]\n"
          ],
          "name": "stdout"
        }
      ]
    },
    {
      "cell_type": "code",
      "metadata": {
        "colab": {
          "base_uri": "https://localhost:8080/"
        },
        "id": "2SD3BOIKkCsN",
        "outputId": "c35fa34b-53ae-4c44-f190-48f04e42d3f1"
      },
      "source": [
        "print(TEXT.vocab.itos[:10])"
      ],
      "execution_count": 45,
      "outputs": [
        {
          "output_type": "stream",
          "text": [
            "['<unk>', '<pad>', 'the', ',', '.', 'and', 'a', 'of', 'to', 'is']\n"
          ],
          "name": "stdout"
        }
      ]
    },
    {
      "cell_type": "code",
      "metadata": {
        "colab": {
          "base_uri": "https://localhost:8080/"
        },
        "id": "fYd8xrRdkIvn",
        "outputId": "145913bb-efd5-40c2-a2fe-9361aeb2b9e2"
      },
      "source": [
        "print(LABEL.vocab.stoi)"
      ],
      "execution_count": 46,
      "outputs": [
        {
          "output_type": "stream",
          "text": [
            "defaultdict(None, {'neg': 0, 'pos': 1})\n"
          ],
          "name": "stdout"
        }
      ]
    },
    {
      "cell_type": "code",
      "metadata": {
        "id": "fF7tkDClkMTI"
      },
      "source": [
        "BATCH_SIZE = 64\n",
        "\n",
        "device = torch.device('cuda' if torch.cuda.is_available() else 'cpu')\n",
        "\n",
        "train_iterator, valid_iterator, test_iterator = data.BucketIterator.splits(\n",
        "    # iterator that batches examples of similar lengths together\n",
        "    (train_data,valid_data,test_data),\n",
        "    batch_size = BATCH_SIZE,\n",
        "    device = device\n",
        ")"
      ],
      "execution_count": 47,
      "outputs": []
    },
    {
      "cell_type": "code",
      "metadata": {
        "id": "G7oqJ7GfNVQ8"
      },
      "source": [
        "import torch.nn as nn"
      ],
      "execution_count": 48,
      "outputs": []
    },
    {
      "cell_type": "code",
      "metadata": {
        "id": "bLSzKC_uNM73"
      },
      "source": [
        "# RNN class\n",
        "\n",
        "class RNN(nn.Module):\n",
        "\n",
        "  def __init__(self,num_embeddings,embedding_dim,hidden_dim,output_dim):\n",
        "    \n",
        "    super().__init__()\n",
        "\n",
        "    self.embedding = nn.Embedding(num_embeddings,embedding_dim) \n",
        "    self.rnn = nn.RNN(embedding_dim,hidden_dim)\n",
        "    self.fc = nn.Linear(hidden_dim,output_dim)\n",
        "\n",
        "  def forward(self,text):\n",
        "\n",
        "    embedded = self.embedding(text)\n",
        "    output, hidden = self.rnn(embedded)\n",
        "    return self.fc(hidden.squeeze(0))"
      ],
      "execution_count": 94,
      "outputs": []
    },
    {
      "cell_type": "code",
      "metadata": {
        "id": "gcihQwpXgJgB"
      },
      "source": [
        "INPUT_DIM = len(TEXT.vocab)\n",
        "EMBEDDING_DIM = 100\n",
        "HIDDEN_DIM = 256\n",
        "OUTPUT_DIM = 1\n",
        "\n",
        "model = RNN(INPUT_DIM, EMBEDDING_DIM, HIDDEN_DIM, OUTPUT_DIM)"
      ],
      "execution_count": 95,
      "outputs": []
    },
    {
      "cell_type": "code",
      "metadata": {
        "colab": {
          "base_uri": "https://localhost:8080/"
        },
        "id": "lB39a723hJsi",
        "outputId": "f80ede71-dfad-4bf5-d1ee-a74f423925b1"
      },
      "source": [
        "model"
      ],
      "execution_count": 96,
      "outputs": [
        {
          "output_type": "execute_result",
          "data": {
            "text/plain": [
              "RNN(\n",
              "  (embedding): Embedding(25002, 100)\n",
              "  (rnn): RNN(100, 256)\n",
              "  (fc): Linear(in_features=256, out_features=1, bias=True)\n",
              ")"
            ]
          },
          "metadata": {
            "tags": []
          },
          "execution_count": 96
        }
      ]
    },
    {
      "cell_type": "code",
      "metadata": {
        "id": "M8xuqlMMjjwk"
      },
      "source": [
        "def count_parameters(model):\n",
        "\n",
        "  return sum(p.numel() for p in model.parameters() if p.requires_grad)"
      ],
      "execution_count": 97,
      "outputs": []
    },
    {
      "cell_type": "code",
      "metadata": {
        "colab": {
          "base_uri": "https://localhost:8080/"
        },
        "id": "2EzXDUELk11K",
        "outputId": "3f6d117a-8df1-4d55-d105-604befeca763"
      },
      "source": [
        "count_parameters(model)"
      ],
      "execution_count": 98,
      "outputs": [
        {
          "output_type": "execute_result",
          "data": {
            "text/plain": [
              "2592105"
            ]
          },
          "metadata": {
            "tags": []
          },
          "execution_count": 98
        }
      ]
    },
    {
      "cell_type": "code",
      "metadata": {
        "id": "JfLxvIZPk7ii"
      },
      "source": [
        "import torch.optim as optim"
      ],
      "execution_count": 99,
      "outputs": []
    },
    {
      "cell_type": "code",
      "metadata": {
        "id": "6KC3ZAqkk_kC"
      },
      "source": [
        "optimizer = optim.SGD(model.parameters(), lr=1e-3)"
      ],
      "execution_count": 100,
      "outputs": []
    },
    {
      "cell_type": "code",
      "metadata": {
        "id": "UNL1tJV3lUhu"
      },
      "source": [
        "criterion = nn.BCEWithLogitsLoss() # Sigmoid + BCE Loss"
      ],
      "execution_count": 101,
      "outputs": []
    },
    {
      "cell_type": "code",
      "metadata": {
        "id": "Jxj9hlEWlWzk"
      },
      "source": [
        "model = model.to(device)\n",
        "criterion = criterion.to(device)"
      ],
      "execution_count": 102,
      "outputs": []
    },
    {
      "cell_type": "code",
      "metadata": {
        "id": "MNdhhbBzlhEZ"
      },
      "source": [
        "def binary_accuracy(preds,y):\n",
        "  \n",
        "  rounded_preds = torch.round(torch.sigmoid(preds))\n",
        "  correct = (rounded_preds == y).float()\n",
        "  acc = correct.sum() / len(correct)\n",
        "\n",
        "  return acc"
      ],
      "execution_count": 103,
      "outputs": []
    },
    {
      "cell_type": "code",
      "metadata": {
        "id": "I6qp5T2vnHyV"
      },
      "source": [
        "def train(model, iterator, optimizer, criterion):\n",
        "\n",
        "  epoch_loss = 0\n",
        "  epoch_acc = 0\n",
        "\n",
        "  model.train()\n",
        "\n",
        "  for batch in iterator:\n",
        "\n",
        "    optimizer.zero_grad()\n",
        "    predictions = model(batch.text).squeeze(1)\n",
        "\n",
        "    loss = criterion(predictions, batch.label)\n",
        "    acc = binary_accuracy(predictions, batch.label)\n",
        "\n",
        "    loss.backward()\n",
        "    optimizer.step()\n",
        "\n",
        "    epoch_loss += loss.item()\n",
        "    epoch_acc += acc.item()\n",
        "\n",
        "  return epoch_loss / len(iterator), epoch_acc / len(iterator)"
      ],
      "execution_count": 114,
      "outputs": []
    },
    {
      "cell_type": "code",
      "metadata": {
        "id": "MMKsSJyhq3qX"
      },
      "source": [
        "def evaluate(model, iterator, criterion):\n",
        "\n",
        "  epoch_loss = 0\n",
        "  epoch_acc = 0\n",
        "\n",
        "  model.eval()\n",
        "\n",
        "  with torch.no_grad():\n",
        "\n",
        "    for batch in iterator:\n",
        "\n",
        "      predictions = model(batch.text).squeeze(1)\n",
        "\n",
        "      loss = criterion(predictions, batch.label)\n",
        "      acc = binary_accuracy(predictions, batch.label)\n",
        "\n",
        "      epoch_loss += loss.item()\n",
        "      epoch_acc += acc.item()\n",
        "\n",
        "    return epoch_loss / len(iterator), epoch_acc / len(iterator)"
      ],
      "execution_count": 115,
      "outputs": []
    },
    {
      "cell_type": "code",
      "metadata": {
        "id": "EdvRJb3KrLpT"
      },
      "source": [
        "import time\n",
        "\n",
        "def epoch_time(start_time, end_time):\n",
        "\n",
        "  elapsed_time = end_time - start_time\n",
        "  elapsed_mins = int(elapsed_time/60)\n",
        "  elapsed_secs = elapsed_time - elapsed_mins\n",
        "\n",
        "  return elapsed_mins, elapsed_secs"
      ],
      "execution_count": 116,
      "outputs": []
    },
    {
      "cell_type": "code",
      "metadata": {
        "colab": {
          "base_uri": "https://localhost:8080/"
        },
        "id": "Tf5ow8FMtWU_",
        "outputId": "43f8c79c-0668-4291-afca-be078a7f05bd"
      },
      "source": [
        "N_EPOCHS = 5\n",
        "\n",
        "best_valid_loss = float('inf')\n",
        "\n",
        "for epoch in range(N_EPOCHS):\n",
        "\n",
        "  start_time = time.time()\n",
        "    \n",
        "  train_loss, train_acc = train(model, train_iterator, optimizer, criterion)\n",
        "  valid_loss, valid_acc = evaluate(model, valid_iterator, criterion)\n",
        "      \n",
        "  end_time = time.time()\n",
        "\n",
        "  epoch_mins, epoch_secs = epoch_time(start_time, end_time)\n",
        "\n",
        "  if valid_loss < best_valid_loss:\n",
        "\n",
        "    best_valid_loss = valid_loss\n",
        "    torch.save(model.state_dict(),'model.pt')\n",
        "\n",
        "  print(f'Epoch: {epoch+1:02} | Epoch Time: {epoch_mins}m {epoch_secs}s')\n",
        "  print(f'\\tTrain Loss: {train_loss:.3f} | Train Acc: {train_acc*100:.2f}%')\n",
        "  print(f'\\t Val. Loss: {valid_loss:.3f} |  Val. Acc: {valid_acc*100:.2f}%')"
      ],
      "execution_count": 117,
      "outputs": [
        {
          "output_type": "stream",
          "text": [
            "Epoch: 01 | Epoch Time: 15m 891.9264266490936s\n",
            "\tTrain Loss: 0.696 | Train Acc: 49.61%\n",
            "\t Val. Loss: 0.695 |  Val. Acc: 48.85%\n",
            "Epoch: 02 | Epoch Time: 15m 893.2682528495789s\n",
            "\tTrain Loss: 0.693 | Train Acc: 50.30%\n",
            "\t Val. Loss: 0.695 |  Val. Acc: 50.49%\n",
            "Epoch: 03 | Epoch Time: 15m 893.2306063175201s\n",
            "\tTrain Loss: 0.694 | Train Acc: 49.71%\n",
            "\t Val. Loss: 0.694 |  Val. Acc: 49.63%\n",
            "Epoch: 04 | Epoch Time: 15m 894.9841191768646s\n",
            "\tTrain Loss: 0.693 | Train Acc: 49.89%\n",
            "\t Val. Loss: 0.694 |  Val. Acc: 49.37%\n",
            "Epoch: 05 | Epoch Time: 15m 895.6147291660309s\n",
            "\tTrain Loss: 0.694 | Train Acc: 49.95%\n",
            "\t Val. Loss: 0.694 |  Val. Acc: 49.04%\n"
          ],
          "name": "stdout"
        }
      ]
    },
    {
      "cell_type": "code",
      "metadata": {
        "colab": {
          "base_uri": "https://localhost:8080/"
        },
        "id": "DGNQ3CfYzsHU",
        "outputId": "fdc20a93-106e-440f-8c56-d59de18456bc"
      },
      "source": [
        "model.load_state_dict(torch.load('model.pt'))\n",
        "\n",
        "test_loss, test_acc = evaluate(model, test_iterator, criterion)\n",
        "\n",
        "print(f'Test Loss: {test_loss:.3f} | Test Acc: {test_acc*100:.2f}%')"
      ],
      "execution_count": 118,
      "outputs": [
        {
          "output_type": "stream",
          "text": [
            "Test Loss: 0.709 | Test Acc: 44.96%\n"
          ],
          "name": "stdout"
        }
      ]
    }
  ]
}